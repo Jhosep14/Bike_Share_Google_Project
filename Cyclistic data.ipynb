{
 "cells": [
  {
   "cell_type": "markdown",
   "id": "38747952-6bee-4d9d-a78b-bb550be356bb",
   "metadata": {},
   "source": [
    "# Importing Libraries"
   ]
  },
  {
   "cell_type": "code",
   "execution_count": 1,
   "id": "6a05aaf7-2217-458e-884e-b253ec8e5a99",
   "metadata": {},
   "outputs": [
    {
     "name": "stdout",
     "output_type": "stream",
     "text": [
      "It's done\n"
     ]
    }
   ],
   "source": [
    "#Importing libraries for our project\n",
    "import pandas as pd\n",
    "import numpy as np\n",
    "from google.cloud import bigquery\n",
    "import matplotlib.pyplot as plt\n",
    "import matplotlib as mpl\n",
    "import seaborn as sns\n",
    "client = bigquery.Client()\n",
    "print(\"It's done\")"
   ]
  },
  {
   "cell_type": "markdown",
   "id": "85aa8179-9f5d-4807-808a-3e97899f265f",
   "metadata": {},
   "source": [
    "# Data Collection"
   ]
  },
  {
   "cell_type": "code",
   "execution_count": 2,
   "id": "af3de226-755d-4001-95d9-f7b7fc694c4f",
   "metadata": {},
   "outputs": [],
   "source": [
    "join = \"\"\"\n",
    "    SELECT * FROM personal-projects-351015.Cyclistic_data.tripdata_2021_08\n",
    "    UNION ALL\n",
    "    SELECT * FROM personal-projects-351015.Cyclistic_data.tripdata_2021_09\n",
    "    UNION ALL\n",
    "    SELECT * FROM personal-projects-351015.Cyclistic_data.tripdata_2021_10\n",
    "    UNION ALL\n",
    "    SELECT * FROM personal-projects-351015.Cyclistic_data.tripdata_2021_11\n",
    "    UNION ALL\n",
    "    SELECT * FROM personal-projects-351015.Cyclistic_data.tripdata_2021_12\n",
    "    UNION ALL\n",
    "    SELECT * FROM personal-projects-351015.Cyclistic_data.tripdata_2022_01\n",
    "    UNION ALL\n",
    "    SELECT * FROM personal-projects-351015.Cyclistic_data.tripdata_2022_02\n",
    "    UNION ALL\n",
    "    SELECT * FROM personal-projects-351015.Cyclistic_data.tripdata_2022_03\n",
    "    UNION ALL\n",
    "    SELECT * FROM personal-projects-351015.Cyclistic_data.tripdata_2022_04\n",
    "    UNION ALL\n",
    "    SELECT * FROM personal-projects-351015.Cyclistic_data.tripdata_2022_05\n",
    "    UNION ALL\n",
    "    SELECT * FROM personal-projects-351015.Cyclistic_data.tripdata_2022_06\n",
    "    UNION ALL\n",
    "    SELECT * FROM personal-projects-351015.Cyclistic_data.tripdata_2022_07\n",
    "\"\"\""
   ]
  },
  {
   "cell_type": "code",
   "execution_count": 3,
   "id": "d4c680bb-659d-441b-b53f-5f019dbf268e",
   "metadata": {},
   "outputs": [],
   "source": [
    "#importing Database and converting to a dataframe\n",
    "sql = \"\"\"\n",
    "SELECT *\n",
    "FROM `personal-projects-351015.Cyclistic_data.full_annual_tripdata`\n",
    "\"\"\"\n",
    "data = client.query(sql).to_dataframe()"
   ]
  },
  {
   "cell_type": "markdown",
   "id": "c84872a9-4bb2-4da7-84a3-c492e2e3b9a7",
   "metadata": {},
   "source": [
    "# Data Wrangling"
   ]
  },
  {
   "cell_type": "code",
   "execution_count": 4,
   "id": "e3c553f5-e90c-4ac3-91b4-4b8c15088205",
   "metadata": {},
   "outputs": [
    {
     "data": {
      "text/html": [
       "<div>\n",
       "<style scoped>\n",
       "    .dataframe tbody tr th:only-of-type {\n",
       "        vertical-align: middle;\n",
       "    }\n",
       "\n",
       "    .dataframe tbody tr th {\n",
       "        vertical-align: top;\n",
       "    }\n",
       "\n",
       "    .dataframe thead th {\n",
       "        text-align: right;\n",
       "    }\n",
       "</style>\n",
       "<table border=\"1\" class=\"dataframe\">\n",
       "  <thead>\n",
       "    <tr style=\"text-align: right;\">\n",
       "      <th></th>\n",
       "      <th>ride_id</th>\n",
       "      <th>rideable_type</th>\n",
       "      <th>started_at</th>\n",
       "      <th>ended_at</th>\n",
       "      <th>start_station_name</th>\n",
       "      <th>start_station_id</th>\n",
       "      <th>end_station_name</th>\n",
       "      <th>end_station_id</th>\n",
       "      <th>start_lat</th>\n",
       "      <th>start_lng</th>\n",
       "      <th>end_lat</th>\n",
       "      <th>end_lng</th>\n",
       "      <th>member_casual</th>\n",
       "      <th>day_of_week</th>\n",
       "      <th>ride_length</th>\n",
       "    </tr>\n",
       "  </thead>\n",
       "  <tbody>\n",
       "    <tr>\n",
       "      <th>0</th>\n",
       "      <td>31D0FA86E8D73DEF</td>\n",
       "      <td>classic_bike</td>\n",
       "      <td>2022-07-10 16:57:00+00:00</td>\n",
       "      <td>2022-07-10 17:06:00+00:00</td>\n",
       "      <td>Oakley Ave &amp; Irving Park Rd</td>\n",
       "      <td>KA1504000158</td>\n",
       "      <td>Wolcott (Ravenswood) Ave &amp; Montrose Ave</td>\n",
       "      <td>TA1307000144</td>\n",
       "      <td>41.954341</td>\n",
       "      <td>-87.686080</td>\n",
       "      <td>41.961406</td>\n",
       "      <td>-87.676169</td>\n",
       "      <td>casual</td>\n",
       "      <td>1</td>\n",
       "      <td>9</td>\n",
       "    </tr>\n",
       "    <tr>\n",
       "      <th>1</th>\n",
       "      <td>1AEBAED73FCE2DD9</td>\n",
       "      <td>classic_bike</td>\n",
       "      <td>2022-07-10 11:46:00+00:00</td>\n",
       "      <td>2022-07-10 11:56:00+00:00</td>\n",
       "      <td>Wells St &amp; Hubbard St</td>\n",
       "      <td>TA1307000151</td>\n",
       "      <td>State St &amp; Randolph St</td>\n",
       "      <td>TA1305000029</td>\n",
       "      <td>41.889906</td>\n",
       "      <td>-87.634266</td>\n",
       "      <td>41.884621</td>\n",
       "      <td>-87.627834</td>\n",
       "      <td>member</td>\n",
       "      <td>1</td>\n",
       "      <td>10</td>\n",
       "    </tr>\n",
       "    <tr>\n",
       "      <th>2</th>\n",
       "      <td>635FB5B56DCD1035</td>\n",
       "      <td>classic_bike</td>\n",
       "      <td>2022-07-31 10:46:00+00:00</td>\n",
       "      <td>2022-07-31 11:00:00+00:00</td>\n",
       "      <td>Washtenaw Ave &amp; Lawrence Ave</td>\n",
       "      <td>KA1504000080</td>\n",
       "      <td>Lincoln Ave &amp; Belle Plaine Ave</td>\n",
       "      <td>TA1309000026</td>\n",
       "      <td>41.968987</td>\n",
       "      <td>-87.696027</td>\n",
       "      <td>41.956004</td>\n",
       "      <td>-87.680161</td>\n",
       "      <td>member</td>\n",
       "      <td>1</td>\n",
       "      <td>14</td>\n",
       "    </tr>\n",
       "    <tr>\n",
       "      <th>3</th>\n",
       "      <td>FBEB14B4494168B7</td>\n",
       "      <td>classic_bike</td>\n",
       "      <td>2022-07-03 14:23:00+00:00</td>\n",
       "      <td>2022-07-03 14:39:00+00:00</td>\n",
       "      <td>Central Park Ave &amp; Elbridge Ave</td>\n",
       "      <td>15644</td>\n",
       "      <td>Central Park Ave &amp; Elbridge Ave</td>\n",
       "      <td>15644</td>\n",
       "      <td>41.935337</td>\n",
       "      <td>-87.716889</td>\n",
       "      <td>41.935337</td>\n",
       "      <td>-87.716889</td>\n",
       "      <td>member</td>\n",
       "      <td>1</td>\n",
       "      <td>16</td>\n",
       "    </tr>\n",
       "    <tr>\n",
       "      <th>4</th>\n",
       "      <td>51B5EF420ED61722</td>\n",
       "      <td>classic_bike</td>\n",
       "      <td>2022-07-03 19:42:00+00:00</td>\n",
       "      <td>2022-07-03 19:54:00+00:00</td>\n",
       "      <td>DuSable Lake Shore Dr &amp; Diversey Pkwy</td>\n",
       "      <td>TA1309000039</td>\n",
       "      <td>Halsted St &amp; Dickens Ave</td>\n",
       "      <td>13192</td>\n",
       "      <td>41.932588</td>\n",
       "      <td>-87.636427</td>\n",
       "      <td>41.919936</td>\n",
       "      <td>-87.648830</td>\n",
       "      <td>member</td>\n",
       "      <td>1</td>\n",
       "      <td>12</td>\n",
       "    </tr>\n",
       "  </tbody>\n",
       "</table>\n",
       "</div>"
      ],
      "text/plain": [
       "            ride_id rideable_type                started_at  \\\n",
       "0  31D0FA86E8D73DEF  classic_bike 2022-07-10 16:57:00+00:00   \n",
       "1  1AEBAED73FCE2DD9  classic_bike 2022-07-10 11:46:00+00:00   \n",
       "2  635FB5B56DCD1035  classic_bike 2022-07-31 10:46:00+00:00   \n",
       "3  FBEB14B4494168B7  classic_bike 2022-07-03 14:23:00+00:00   \n",
       "4  51B5EF420ED61722  classic_bike 2022-07-03 19:42:00+00:00   \n",
       "\n",
       "                   ended_at                     start_station_name  \\\n",
       "0 2022-07-10 17:06:00+00:00            Oakley Ave & Irving Park Rd   \n",
       "1 2022-07-10 11:56:00+00:00                  Wells St & Hubbard St   \n",
       "2 2022-07-31 11:00:00+00:00           Washtenaw Ave & Lawrence Ave   \n",
       "3 2022-07-03 14:39:00+00:00        Central Park Ave & Elbridge Ave   \n",
       "4 2022-07-03 19:54:00+00:00  DuSable Lake Shore Dr & Diversey Pkwy   \n",
       "\n",
       "  start_station_id                         end_station_name end_station_id  \\\n",
       "0     KA1504000158  Wolcott (Ravenswood) Ave & Montrose Ave   TA1307000144   \n",
       "1     TA1307000151                   State St & Randolph St   TA1305000029   \n",
       "2     KA1504000080           Lincoln Ave & Belle Plaine Ave   TA1309000026   \n",
       "3            15644          Central Park Ave & Elbridge Ave          15644   \n",
       "4     TA1309000039                 Halsted St & Dickens Ave          13192   \n",
       "\n",
       "   start_lat  start_lng    end_lat    end_lng member_casual  day_of_week  \\\n",
       "0  41.954341 -87.686080  41.961406 -87.676169        casual            1   \n",
       "1  41.889906 -87.634266  41.884621 -87.627834        member            1   \n",
       "2  41.968987 -87.696027  41.956004 -87.680161        member            1   \n",
       "3  41.935337 -87.716889  41.935337 -87.716889        member            1   \n",
       "4  41.932588 -87.636427  41.919936 -87.648830        member            1   \n",
       "\n",
       "   ride_length  \n",
       "0            9  \n",
       "1           10  \n",
       "2           14  \n",
       "3           16  \n",
       "4           12  "
      ]
     },
     "execution_count": 4,
     "metadata": {},
     "output_type": "execute_result"
    }
   ],
   "source": [
    "data.head()"
   ]
  },
  {
   "cell_type": "code",
   "execution_count": 5,
   "id": "05a291de-8cef-4971-8673-8f0f0660da9d",
   "metadata": {},
   "outputs": [
    {
     "data": {
      "text/plain": [
       "ride_id                            object\n",
       "rideable_type                      object\n",
       "started_at            datetime64[ns, UTC]\n",
       "ended_at              datetime64[ns, UTC]\n",
       "start_station_name                 object\n",
       "start_station_id                   object\n",
       "end_station_name                   object\n",
       "end_station_id                     object\n",
       "start_lat                         float64\n",
       "start_lng                         float64\n",
       "end_lat                           float64\n",
       "end_lng                           float64\n",
       "member_casual                      object\n",
       "day_of_week                         int64\n",
       "ride_length                         int64\n",
       "dtype: object"
      ]
     },
     "execution_count": 5,
     "metadata": {},
     "output_type": "execute_result"
    }
   ],
   "source": [
    "#Checking data types to look for inconsitencies\n",
    "data.dtypes"
   ]
  },
  {
   "cell_type": "code",
   "execution_count": 6,
   "id": "293c94f1-c2f1-4733-9f31-c8c6c92fbbcd",
   "metadata": {},
   "outputs": [
    {
     "data": {
      "text/html": [
       "<div>\n",
       "<style scoped>\n",
       "    .dataframe tbody tr th:only-of-type {\n",
       "        vertical-align: middle;\n",
       "    }\n",
       "\n",
       "    .dataframe tbody tr th {\n",
       "        vertical-align: top;\n",
       "    }\n",
       "\n",
       "    .dataframe thead th {\n",
       "        text-align: right;\n",
       "    }\n",
       "</style>\n",
       "<table border=\"1\" class=\"dataframe\">\n",
       "  <thead>\n",
       "    <tr style=\"text-align: right;\">\n",
       "      <th></th>\n",
       "      <th>start_lat</th>\n",
       "      <th>start_lng</th>\n",
       "      <th>end_lat</th>\n",
       "      <th>end_lng</th>\n",
       "      <th>day_of_week</th>\n",
       "      <th>ride_length</th>\n",
       "    </tr>\n",
       "  </thead>\n",
       "  <tbody>\n",
       "    <tr>\n",
       "      <th>count</th>\n",
       "      <td>5.901463e+06</td>\n",
       "      <td>5.901463e+06</td>\n",
       "      <td>5.895873e+06</td>\n",
       "      <td>5.895873e+06</td>\n",
       "      <td>5.901463e+06</td>\n",
       "      <td>5.901463e+06</td>\n",
       "    </tr>\n",
       "    <tr>\n",
       "      <th>mean</th>\n",
       "      <td>4.190077e+01</td>\n",
       "      <td>-8.764742e+01</td>\n",
       "      <td>4.190102e+01</td>\n",
       "      <td>-8.764761e+01</td>\n",
       "      <td>4.065831e+00</td>\n",
       "      <td>1.988998e+01</td>\n",
       "    </tr>\n",
       "    <tr>\n",
       "      <th>std</th>\n",
       "      <td>4.725668e-02</td>\n",
       "      <td>3.093877e-02</td>\n",
       "      <td>4.734863e-02</td>\n",
       "      <td>3.056536e-02</td>\n",
       "      <td>2.051117e+00</td>\n",
       "      <td>1.479859e+02</td>\n",
       "    </tr>\n",
       "    <tr>\n",
       "      <th>min</th>\n",
       "      <td>4.164000e+01</td>\n",
       "      <td>-8.784000e+01</td>\n",
       "      <td>4.139000e+01</td>\n",
       "      <td>-8.897000e+01</td>\n",
       "      <td>1.000000e+00</td>\n",
       "      <td>-1.380000e+02</td>\n",
       "    </tr>\n",
       "    <tr>\n",
       "      <th>25%</th>\n",
       "      <td>4.188103e+01</td>\n",
       "      <td>-8.766154e+01</td>\n",
       "      <td>4.188103e+01</td>\n",
       "      <td>-8.766241e+01</td>\n",
       "      <td>2.000000e+00</td>\n",
       "      <td>6.000000e+00</td>\n",
       "    </tr>\n",
       "    <tr>\n",
       "      <th>50%</th>\n",
       "      <td>4.189964e+01</td>\n",
       "      <td>-8.764335e+01</td>\n",
       "      <td>4.190000e+01</td>\n",
       "      <td>-8.764375e+01</td>\n",
       "      <td>4.000000e+00</td>\n",
       "      <td>1.100000e+01</td>\n",
       "    </tr>\n",
       "    <tr>\n",
       "      <th>75%</th>\n",
       "      <td>4.192957e+01</td>\n",
       "      <td>-8.762872e+01</td>\n",
       "      <td>4.192968e+01</td>\n",
       "      <td>-8.762911e+01</td>\n",
       "      <td>6.000000e+00</td>\n",
       "      <td>2.000000e+01</td>\n",
       "    </tr>\n",
       "    <tr>\n",
       "      <th>max</th>\n",
       "      <td>4.563503e+01</td>\n",
       "      <td>-7.379648e+01</td>\n",
       "      <td>4.237000e+01</td>\n",
       "      <td>-8.750000e+01</td>\n",
       "      <td>7.000000e+00</td>\n",
       "      <td>4.162900e+04</td>\n",
       "    </tr>\n",
       "  </tbody>\n",
       "</table>\n",
       "</div>"
      ],
      "text/plain": [
       "          start_lat     start_lng       end_lat       end_lng   day_of_week  \\\n",
       "count  5.901463e+06  5.901463e+06  5.895873e+06  5.895873e+06  5.901463e+06   \n",
       "mean   4.190077e+01 -8.764742e+01  4.190102e+01 -8.764761e+01  4.065831e+00   \n",
       "std    4.725668e-02  3.093877e-02  4.734863e-02  3.056536e-02  2.051117e+00   \n",
       "min    4.164000e+01 -8.784000e+01  4.139000e+01 -8.897000e+01  1.000000e+00   \n",
       "25%    4.188103e+01 -8.766154e+01  4.188103e+01 -8.766241e+01  2.000000e+00   \n",
       "50%    4.189964e+01 -8.764335e+01  4.190000e+01 -8.764375e+01  4.000000e+00   \n",
       "75%    4.192957e+01 -8.762872e+01  4.192968e+01 -8.762911e+01  6.000000e+00   \n",
       "max    4.563503e+01 -7.379648e+01  4.237000e+01 -8.750000e+01  7.000000e+00   \n",
       "\n",
       "        ride_length  \n",
       "count  5.901463e+06  \n",
       "mean   1.988998e+01  \n",
       "std    1.479859e+02  \n",
       "min   -1.380000e+02  \n",
       "25%    6.000000e+00  \n",
       "50%    1.100000e+01  \n",
       "75%    2.000000e+01  \n",
       "max    4.162900e+04  "
      ]
     },
     "execution_count": 6,
     "metadata": {},
     "output_type": "execute_result"
    }
   ],
   "source": [
    "#Getting the statistical values \n",
    "data.describe()"
   ]
  },
  {
   "cell_type": "code",
   "execution_count": 7,
   "id": "4ee39b59-d5c2-4079-bb8e-69c4d06b89db",
   "metadata": {},
   "outputs": [
    {
     "data": {
      "text/plain": [
       "ride_id                    0\n",
       "rideable_type              0\n",
       "started_at                 0\n",
       "ended_at                   0\n",
       "start_station_name    860786\n",
       "start_station_id      860784\n",
       "end_station_name      919896\n",
       "end_station_id        919896\n",
       "start_lat                  0\n",
       "start_lng                  0\n",
       "end_lat                 5590\n",
       "end_lng                 5590\n",
       "member_casual              0\n",
       "day_of_week                0\n",
       "ride_length                0\n",
       "dtype: int64"
      ]
     },
     "execution_count": 7,
     "metadata": {},
     "output_type": "execute_result"
    }
   ],
   "source": [
    "#Cheking look for null values\n",
    "data.isnull().sum()"
   ]
  },
  {
   "cell_type": "code",
   "execution_count": 8,
   "id": "53d3aca8-7957-483e-b454-12d422a777a6",
   "metadata": {},
   "outputs": [
    {
     "name": "stdout",
     "output_type": "stream",
     "text": [
      "<class 'pandas.core.frame.DataFrame'>\n",
      "RangeIndex: 5901463 entries, 0 to 5901462\n",
      "Columns: 15 entries, ride_id to ride_length\n",
      "dtypes: datetime64[ns, UTC](2), float64(4), int64(2), object(7)\n",
      "memory usage: 675.4+ MB\n"
     ]
    }
   ],
   "source": [
    "#Database features \n",
    "data.info(verbose=False)"
   ]
  },
  {
   "cell_type": "code",
   "execution_count": 9,
   "id": "e4f40682-1f2b-456c-9f21-f3d6fbff8eda",
   "metadata": {},
   "outputs": [],
   "source": [
    "#Removing null values\n",
    "df = data.dropna(inplace=False)"
   ]
  },
  {
   "cell_type": "code",
   "execution_count": 10,
   "id": "3886cc86-9548-4205-956b-35d1f1c8eef3",
   "metadata": {},
   "outputs": [
    {
     "data": {
      "text/plain": [
       "ride_id               0\n",
       "rideable_type         0\n",
       "started_at            0\n",
       "ended_at              0\n",
       "start_station_name    0\n",
       "start_station_id      0\n",
       "end_station_name      0\n",
       "end_station_id        0\n",
       "start_lat             0\n",
       "start_lng             0\n",
       "end_lat               0\n",
       "end_lng               0\n",
       "member_casual         0\n",
       "day_of_week           0\n",
       "ride_length           0\n",
       "dtype: int64"
      ]
     },
     "execution_count": 10,
     "metadata": {},
     "output_type": "execute_result"
    }
   ],
   "source": [
    "#Checking if the data is ready to analyse\n",
    "df.isnull().sum()"
   ]
  },
  {
   "cell_type": "code",
   "execution_count": 11,
   "id": "6b80e1ee-e266-4fd4-9f78-0d426b781d92",
   "metadata": {},
   "outputs": [
    {
     "name": "stderr",
     "output_type": "stream",
     "text": [
      "/opt/conda/lib/python3.7/site-packages/pandas/core/frame.py:4913: SettingWithCopyWarning: \n",
      "A value is trying to be set on a copy of a slice from a DataFrame\n",
      "\n",
      "See the caveats in the documentation: https://pandas.pydata.org/pandas-docs/stable/user_guide/indexing.html#returning-a-view-versus-a-copy\n",
      "  errors=errors,\n"
     ]
    },
    {
     "data": {
      "text/html": [
       "<div>\n",
       "<style scoped>\n",
       "    .dataframe tbody tr th:only-of-type {\n",
       "        vertical-align: middle;\n",
       "    }\n",
       "\n",
       "    .dataframe tbody tr th {\n",
       "        vertical-align: top;\n",
       "    }\n",
       "\n",
       "    .dataframe thead th {\n",
       "        text-align: right;\n",
       "    }\n",
       "</style>\n",
       "<table border=\"1\" class=\"dataframe\">\n",
       "  <thead>\n",
       "    <tr style=\"text-align: right;\">\n",
       "      <th></th>\n",
       "      <th>ride_id</th>\n",
       "      <th>rideable_type</th>\n",
       "      <th>started_at</th>\n",
       "      <th>ended_at</th>\n",
       "      <th>start_station_name</th>\n",
       "      <th>end_station_name</th>\n",
       "      <th>member_casual</th>\n",
       "      <th>day_of_week</th>\n",
       "      <th>ride_length</th>\n",
       "    </tr>\n",
       "  </thead>\n",
       "  <tbody>\n",
       "    <tr>\n",
       "      <th>0</th>\n",
       "      <td>31D0FA86E8D73DEF</td>\n",
       "      <td>classic_bike</td>\n",
       "      <td>2022-07-10 16:57:00+00:00</td>\n",
       "      <td>2022-07-10 17:06:00+00:00</td>\n",
       "      <td>Oakley Ave &amp; Irving Park Rd</td>\n",
       "      <td>Wolcott (Ravenswood) Ave &amp; Montrose Ave</td>\n",
       "      <td>casual</td>\n",
       "      <td>1</td>\n",
       "      <td>9</td>\n",
       "    </tr>\n",
       "    <tr>\n",
       "      <th>1</th>\n",
       "      <td>1AEBAED73FCE2DD9</td>\n",
       "      <td>classic_bike</td>\n",
       "      <td>2022-07-10 11:46:00+00:00</td>\n",
       "      <td>2022-07-10 11:56:00+00:00</td>\n",
       "      <td>Wells St &amp; Hubbard St</td>\n",
       "      <td>State St &amp; Randolph St</td>\n",
       "      <td>member</td>\n",
       "      <td>1</td>\n",
       "      <td>10</td>\n",
       "    </tr>\n",
       "    <tr>\n",
       "      <th>2</th>\n",
       "      <td>635FB5B56DCD1035</td>\n",
       "      <td>classic_bike</td>\n",
       "      <td>2022-07-31 10:46:00+00:00</td>\n",
       "      <td>2022-07-31 11:00:00+00:00</td>\n",
       "      <td>Washtenaw Ave &amp; Lawrence Ave</td>\n",
       "      <td>Lincoln Ave &amp; Belle Plaine Ave</td>\n",
       "      <td>member</td>\n",
       "      <td>1</td>\n",
       "      <td>14</td>\n",
       "    </tr>\n",
       "    <tr>\n",
       "      <th>3</th>\n",
       "      <td>FBEB14B4494168B7</td>\n",
       "      <td>classic_bike</td>\n",
       "      <td>2022-07-03 14:23:00+00:00</td>\n",
       "      <td>2022-07-03 14:39:00+00:00</td>\n",
       "      <td>Central Park Ave &amp; Elbridge Ave</td>\n",
       "      <td>Central Park Ave &amp; Elbridge Ave</td>\n",
       "      <td>member</td>\n",
       "      <td>1</td>\n",
       "      <td>16</td>\n",
       "    </tr>\n",
       "    <tr>\n",
       "      <th>4</th>\n",
       "      <td>51B5EF420ED61722</td>\n",
       "      <td>classic_bike</td>\n",
       "      <td>2022-07-03 19:42:00+00:00</td>\n",
       "      <td>2022-07-03 19:54:00+00:00</td>\n",
       "      <td>DuSable Lake Shore Dr &amp; Diversey Pkwy</td>\n",
       "      <td>Halsted St &amp; Dickens Ave</td>\n",
       "      <td>member</td>\n",
       "      <td>1</td>\n",
       "      <td>12</td>\n",
       "    </tr>\n",
       "  </tbody>\n",
       "</table>\n",
       "</div>"
      ],
      "text/plain": [
       "            ride_id rideable_type                started_at  \\\n",
       "0  31D0FA86E8D73DEF  classic_bike 2022-07-10 16:57:00+00:00   \n",
       "1  1AEBAED73FCE2DD9  classic_bike 2022-07-10 11:46:00+00:00   \n",
       "2  635FB5B56DCD1035  classic_bike 2022-07-31 10:46:00+00:00   \n",
       "3  FBEB14B4494168B7  classic_bike 2022-07-03 14:23:00+00:00   \n",
       "4  51B5EF420ED61722  classic_bike 2022-07-03 19:42:00+00:00   \n",
       "\n",
       "                   ended_at                     start_station_name  \\\n",
       "0 2022-07-10 17:06:00+00:00            Oakley Ave & Irving Park Rd   \n",
       "1 2022-07-10 11:56:00+00:00                  Wells St & Hubbard St   \n",
       "2 2022-07-31 11:00:00+00:00           Washtenaw Ave & Lawrence Ave   \n",
       "3 2022-07-03 14:39:00+00:00        Central Park Ave & Elbridge Ave   \n",
       "4 2022-07-03 19:54:00+00:00  DuSable Lake Shore Dr & Diversey Pkwy   \n",
       "\n",
       "                          end_station_name member_casual  day_of_week  \\\n",
       "0  Wolcott (Ravenswood) Ave & Montrose Ave        casual            1   \n",
       "1                   State St & Randolph St        member            1   \n",
       "2           Lincoln Ave & Belle Plaine Ave        member            1   \n",
       "3          Central Park Ave & Elbridge Ave        member            1   \n",
       "4                 Halsted St & Dickens Ave        member            1   \n",
       "\n",
       "   ride_length  \n",
       "0            9  \n",
       "1           10  \n",
       "2           14  \n",
       "3           16  \n",
       "4           12  "
      ]
     },
     "execution_count": 11,
     "metadata": {},
     "output_type": "execute_result"
    }
   ],
   "source": [
    "#Dropping unnecessary columns for analysis\n",
    "df.drop(['start_lat', 'start_lng', 'end_lat', 'end_lng','start_station_id','end_station_id'], axis=1, inplace=True)\n",
    "df.head()"
   ]
  },
  {
   "cell_type": "markdown",
   "id": "7069d923-382e-4476-9017-1f9612788fcd",
   "metadata": {},
   "source": [
    "# EDA and Data Visualization"
   ]
  },
  {
   "cell_type": "code",
   "execution_count": 12,
   "id": "33d59cd5-8f6b-40b0-8d9d-23d1710f6ae8",
   "metadata": {},
   "outputs": [
    {
     "name": "stderr",
     "output_type": "stream",
     "text": [
      "Query complete after 0.01s: 100%|██████████| 1/1 [00:00<00:00, 770.45query/s] \n",
      "Downloading: 100%|██████████| 2/2 [00:01<00:00,  1.43rows/s]\n"
     ]
    },
    {
     "data": {
      "text/html": [
       "<div>\n",
       "<style scoped>\n",
       "    .dataframe tbody tr th:only-of-type {\n",
       "        vertical-align: middle;\n",
       "    }\n",
       "\n",
       "    .dataframe tbody tr th {\n",
       "        vertical-align: top;\n",
       "    }\n",
       "\n",
       "    .dataframe thead th {\n",
       "        text-align: right;\n",
       "    }\n",
       "</style>\n",
       "<table border=\"1\" class=\"dataframe\">\n",
       "  <thead>\n",
       "    <tr style=\"text-align: right;\">\n",
       "      <th></th>\n",
       "      <th>member_casual</th>\n",
       "      <th>ride_average</th>\n",
       "    </tr>\n",
       "  </thead>\n",
       "  <tbody>\n",
       "    <tr>\n",
       "      <th>0</th>\n",
       "      <td>casual</td>\n",
       "      <td>29.211727</td>\n",
       "    </tr>\n",
       "    <tr>\n",
       "      <th>1</th>\n",
       "      <td>member</td>\n",
       "      <td>12.932331</td>\n",
       "    </tr>\n",
       "  </tbody>\n",
       "</table>\n",
       "</div>"
      ],
      "text/plain": [
       "  member_casual  ride_average\n",
       "0        casual     29.211727\n",
       "1        member     12.932331"
      ]
     },
     "execution_count": 12,
     "metadata": {},
     "output_type": "execute_result"
    }
   ],
   "source": [
    "%%bigquery\n",
    "SELECT member_casual,AVG(ride_length) AS ride_average\n",
    "FROM `personal-projects-351015.Cyclistic_data.full_annual_tripdata` \n",
    "GROUP BY member_casual\n",
    "ORDER BY ride_average DESC"
   ]
  },
  {
   "cell_type": "code",
   "execution_count": 13,
   "id": "f9f5d7fe-6bc6-413e-b3ae-e9373d4429d8",
   "metadata": {},
   "outputs": [
    {
     "data": {
      "text/plain": [
       "day_of_week  member_casual\n",
       "1            casual           380729\n",
       "             member           328498\n",
       "2            member           377494\n",
       "             casual           229314\n",
       "3            member           419981\n",
       "             casual           204581\n",
       "4            member           418796\n",
       "             casual           210696\n",
       "5            member           414455\n",
       "             casual           237586\n",
       "6            member           365123\n",
       "             casual           263751\n",
       "7            casual           422715\n",
       "             member           355511\n",
       "Name: member_casual, dtype: int64"
      ]
     },
     "execution_count": 13,
     "metadata": {},
     "output_type": "execute_result"
    }
   ],
   "source": [
    "df.groupby(['day_of_week'])['member_casual'].value_counts(ascending=False)"
   ]
  },
  {
   "cell_type": "code",
   "execution_count": 14,
   "id": "cb9ae407-2a6d-4ec2-a0c0-73ace1806bb8",
   "metadata": {},
   "outputs": [
    {
     "data": {
      "text/html": [
       "<div>\n",
       "<style scoped>\n",
       "    .dataframe tbody tr th:only-of-type {\n",
       "        vertical-align: middle;\n",
       "    }\n",
       "\n",
       "    .dataframe tbody tr th {\n",
       "        vertical-align: top;\n",
       "    }\n",
       "\n",
       "    .dataframe thead th {\n",
       "        text-align: right;\n",
       "    }\n",
       "</style>\n",
       "<table border=\"1\" class=\"dataframe\">\n",
       "  <thead>\n",
       "    <tr style=\"text-align: right;\">\n",
       "      <th></th>\n",
       "      <th>TOTAL</th>\n",
       "    </tr>\n",
       "    <tr>\n",
       "      <th>member_casual</th>\n",
       "      <th></th>\n",
       "    </tr>\n",
       "  </thead>\n",
       "  <tbody>\n",
       "    <tr>\n",
       "      <th>member</th>\n",
       "      <td>3379237</td>\n",
       "    </tr>\n",
       "    <tr>\n",
       "      <th>casual</th>\n",
       "      <td>2522226</td>\n",
       "    </tr>\n",
       "  </tbody>\n",
       "</table>\n",
       "</div>"
      ],
      "text/plain": [
       "                 TOTAL\n",
       "member_casual         \n",
       "member         3379237\n",
       "casual         2522226"
      ]
     },
     "execution_count": 14,
     "metadata": {},
     "output_type": "execute_result"
    }
   ],
   "source": [
    "riders = \"\"\"\n",
    "SELECT member_casual, COUNT(member_casual) AS TOTAL\n",
    "FROM `personal-projects-351015.Cyclistic_data.full_annual_tripdata` \n",
    "GROUP BY member_casual\n",
    "ORDER BY TOTAL DESC\"\"\"\n",
    "total = client.query(riders).to_dataframe()\n",
    "total_riders = total.set_index('member_casual')\n",
    "total_riders"
   ]
  },
  {
   "cell_type": "code",
   "execution_count": 15,
   "id": "bc5cc3ca-b696-49fc-81f9-2f560ccf3094",
   "metadata": {},
   "outputs": [
    {
     "name": "stderr",
     "output_type": "stream",
     "text": [
      "/opt/conda/lib/python3.7/site-packages/ipykernel_launcher.py:1: SettingWithCopyWarning: \n",
      "A value is trying to be set on a copy of a slice from a DataFrame.\n",
      "Try using .loc[row_indexer,col_indexer] = value instead\n",
      "\n",
      "See the caveats in the documentation: https://pandas.pydata.org/pandas-docs/stable/user_guide/indexing.html#returning-a-view-versus-a-copy\n",
      "  \"\"\"Entry point for launching an IPython kernel.\n"
     ]
    },
    {
     "data": {
      "text/plain": [
       "0          07\n",
       "1          07\n",
       "2          07\n",
       "3          07\n",
       "4          07\n",
       "           ..\n",
       "5901182    05\n",
       "5901229    05\n",
       "5901263    07\n",
       "5901264    12\n",
       "5901280    05\n",
       "Name: month, Length: 4629230, dtype: object"
      ]
     },
     "execution_count": 15,
     "metadata": {},
     "output_type": "execute_result"
    }
   ],
   "source": [
    "df['month'] = df['started_at'].dt.strftime('%m')\n",
    "df.month"
   ]
  },
  {
   "cell_type": "code",
   "execution_count": 76,
   "id": "11078909-a129-47a5-b187-12a64c7c8068",
   "metadata": {},
   "outputs": [
    {
     "data": {
      "text/html": [
       "<div>\n",
       "<style scoped>\n",
       "    .dataframe tbody tr th:only-of-type {\n",
       "        vertical-align: middle;\n",
       "    }\n",
       "\n",
       "    .dataframe tbody tr th {\n",
       "        vertical-align: top;\n",
       "    }\n",
       "\n",
       "    .dataframe thead th {\n",
       "        text-align: right;\n",
       "    }\n",
       "</style>\n",
       "<table border=\"1\" class=\"dataframe\">\n",
       "  <thead>\n",
       "    <tr style=\"text-align: right;\">\n",
       "      <th></th>\n",
       "      <th>index</th>\n",
       "      <th>month</th>\n",
       "    </tr>\n",
       "  </thead>\n",
       "  <tbody>\n",
       "    <tr>\n",
       "      <th>0</th>\n",
       "      <td>08</td>\n",
       "      <td>674409</td>\n",
       "    </tr>\n",
       "    <tr>\n",
       "      <th>1</th>\n",
       "      <td>07</td>\n",
       "      <td>642680</td>\n",
       "    </tr>\n",
       "    <tr>\n",
       "      <th>2</th>\n",
       "      <td>09</td>\n",
       "      <td>621150</td>\n",
       "    </tr>\n",
       "    <tr>\n",
       "      <th>3</th>\n",
       "      <td>06</td>\n",
       "      <td>620350</td>\n",
       "    </tr>\n",
       "    <tr>\n",
       "      <th>4</th>\n",
       "      <td>05</td>\n",
       "      <td>502545</td>\n",
       "    </tr>\n",
       "    <tr>\n",
       "      <th>5</th>\n",
       "      <td>10</td>\n",
       "      <td>477972</td>\n",
       "    </tr>\n",
       "    <tr>\n",
       "      <th>6</th>\n",
       "      <td>04</td>\n",
       "      <td>272560</td>\n",
       "    </tr>\n",
       "    <tr>\n",
       "      <th>7</th>\n",
       "      <td>11</td>\n",
       "      <td>255904</td>\n",
       "    </tr>\n",
       "    <tr>\n",
       "      <th>8</th>\n",
       "      <td>03</td>\n",
       "      <td>215983</td>\n",
       "    </tr>\n",
       "    <tr>\n",
       "      <th>9</th>\n",
       "      <td>12</td>\n",
       "      <td>176371</td>\n",
       "    </tr>\n",
       "    <tr>\n",
       "      <th>10</th>\n",
       "      <td>02</td>\n",
       "      <td>89178</td>\n",
       "    </tr>\n",
       "    <tr>\n",
       "      <th>11</th>\n",
       "      <td>01</td>\n",
       "      <td>80128</td>\n",
       "    </tr>\n",
       "  </tbody>\n",
       "</table>\n",
       "</div>"
      ],
      "text/plain": [
       "   index   month\n",
       "0     08  674409\n",
       "1     07  642680\n",
       "2     09  621150\n",
       "3     06  620350\n",
       "4     05  502545\n",
       "5     10  477972\n",
       "6     04  272560\n",
       "7     11  255904\n",
       "8     03  215983\n",
       "9     12  176371\n",
       "10    02   89178\n",
       "11    01   80128"
      ]
     },
     "execution_count": 76,
     "metadata": {},
     "output_type": "execute_result"
    }
   ],
   "source": [
    "monthly_rides = df['month'].value_counts().reset_index()\n",
    "monthly_rides"
   ]
  },
  {
   "cell_type": "code",
   "execution_count": 79,
   "id": "d6d44eb0-bd2c-4b0c-9826-3d3d592f62e8",
   "metadata": {},
   "outputs": [
    {
     "data": {
      "text/html": [
       "<div>\n",
       "<style scoped>\n",
       "    .dataframe tbody tr th:only-of-type {\n",
       "        vertical-align: middle;\n",
       "    }\n",
       "\n",
       "    .dataframe tbody tr th {\n",
       "        vertical-align: top;\n",
       "    }\n",
       "\n",
       "    .dataframe thead th {\n",
       "        text-align: right;\n",
       "    }\n",
       "</style>\n",
       "<table border=\"1\" class=\"dataframe\">\n",
       "  <thead>\n",
       "    <tr style=\"text-align: right;\">\n",
       "      <th></th>\n",
       "      <th>month</th>\n",
       "    </tr>\n",
       "    <tr>\n",
       "      <th>index</th>\n",
       "      <th></th>\n",
       "    </tr>\n",
       "  </thead>\n",
       "  <tbody>\n",
       "    <tr>\n",
       "      <th>01</th>\n",
       "      <td>80128</td>\n",
       "    </tr>\n",
       "    <tr>\n",
       "      <th>02</th>\n",
       "      <td>89178</td>\n",
       "    </tr>\n",
       "    <tr>\n",
       "      <th>03</th>\n",
       "      <td>215983</td>\n",
       "    </tr>\n",
       "    <tr>\n",
       "      <th>04</th>\n",
       "      <td>272560</td>\n",
       "    </tr>\n",
       "    <tr>\n",
       "      <th>05</th>\n",
       "      <td>502545</td>\n",
       "    </tr>\n",
       "    <tr>\n",
       "      <th>06</th>\n",
       "      <td>620350</td>\n",
       "    </tr>\n",
       "    <tr>\n",
       "      <th>07</th>\n",
       "      <td>642680</td>\n",
       "    </tr>\n",
       "    <tr>\n",
       "      <th>08</th>\n",
       "      <td>674409</td>\n",
       "    </tr>\n",
       "    <tr>\n",
       "      <th>09</th>\n",
       "      <td>621150</td>\n",
       "    </tr>\n",
       "    <tr>\n",
       "      <th>10</th>\n",
       "      <td>477972</td>\n",
       "    </tr>\n",
       "    <tr>\n",
       "      <th>11</th>\n",
       "      <td>255904</td>\n",
       "    </tr>\n",
       "    <tr>\n",
       "      <th>12</th>\n",
       "      <td>176371</td>\n",
       "    </tr>\n",
       "  </tbody>\n",
       "</table>\n",
       "</div>"
      ],
      "text/plain": [
       "        month\n",
       "index        \n",
       "01      80128\n",
       "02      89178\n",
       "03     215983\n",
       "04     272560\n",
       "05     502545\n",
       "06     620350\n",
       "07     642680\n",
       "08     674409\n",
       "09     621150\n",
       "10     477972\n",
       "11     255904\n",
       "12     176371"
      ]
     },
     "execution_count": 79,
     "metadata": {},
     "output_type": "execute_result"
    }
   ],
   "source": [
    "monthly = monthly_rides.set_index('index').sort_index(ascending=True)\n",
    "monthly"
   ]
  },
  {
   "cell_type": "code",
   "execution_count": 23,
   "id": "ad0f54e0-7a19-4164-aebe-027aa5d616c5",
   "metadata": {},
   "outputs": [
    {
     "data": {
      "text/html": [
       "<div>\n",
       "<style scoped>\n",
       "    .dataframe tbody tr th:only-of-type {\n",
       "        vertical-align: middle;\n",
       "    }\n",
       "\n",
       "    .dataframe tbody tr th {\n",
       "        vertical-align: top;\n",
       "    }\n",
       "\n",
       "    .dataframe thead th {\n",
       "        text-align: right;\n",
       "    }\n",
       "</style>\n",
       "<table border=\"1\" class=\"dataframe\">\n",
       "  <thead>\n",
       "    <tr style=\"text-align: right;\">\n",
       "      <th></th>\n",
       "      <th>member_casual</th>\n",
       "      <th>ride_length</th>\n",
       "    </tr>\n",
       "  </thead>\n",
       "  <tbody>\n",
       "    <tr>\n",
       "      <th>0</th>\n",
       "      <td>casual</td>\n",
       "      <td>26.621724</td>\n",
       "    </tr>\n",
       "    <tr>\n",
       "      <th>1</th>\n",
       "      <td>member</td>\n",
       "      <td>12.600589</td>\n",
       "    </tr>\n",
       "  </tbody>\n",
       "</table>\n",
       "</div>"
      ],
      "text/plain": [
       "  member_casual  ride_length\n",
       "0        casual    26.621724\n",
       "1        member    12.600589"
      ]
     },
     "execution_count": 23,
     "metadata": {},
     "output_type": "execute_result"
    }
   ],
   "source": [
    "average = df.groupby(['member_casual'])['ride_length'].mean().reset_index()\n",
    "average"
   ]
  },
  {
   "cell_type": "code",
   "execution_count": 19,
   "id": "ede5591f-a604-4b96-9b5a-8a45ee9a325f",
   "metadata": {},
   "outputs": [
    {
     "name": "stderr",
     "output_type": "stream",
     "text": [
      "/opt/conda/lib/python3.7/site-packages/ipykernel_launcher.py:1: SettingWithCopyWarning: \n",
      "A value is trying to be set on a copy of a slice from a DataFrame.\n",
      "Try using .loc[row_indexer,col_indexer] = value instead\n",
      "\n",
      "See the caveats in the documentation: https://pandas.pydata.org/pandas-docs/stable/user_guide/indexing.html#returning-a-view-versus-a-copy\n",
      "  \"\"\"Entry point for launching an IPython kernel.\n"
     ]
    }
   ],
   "source": [
    "df['length'] = df['ride_length'].abs()"
   ]
  },
  {
   "cell_type": "code",
   "execution_count": 20,
   "id": "ee6982a1-cb88-496f-b170-dc45b9928e3b",
   "metadata": {},
   "outputs": [
    {
     "data": {
      "text/plain": [
       "day_of_week  member_casual\n",
       "1            casual           30.621261\n",
       "             member           14.340273\n",
       "2            casual           27.663706\n",
       "             member           12.216255\n",
       "3            casual           23.200023\n",
       "             member           11.751639\n",
       "4            casual           22.807134\n",
       "             member           11.888798\n",
       "5            casual           23.410542\n",
       "             member           12.063486\n",
       "6            casual           24.661431\n",
       "             member           12.254840\n",
       "7            casual           29.039464\n",
       "             member           14.223841\n",
       "Name: ride_length, dtype: float64"
      ]
     },
     "execution_count": 20,
     "metadata": {},
     "output_type": "execute_result"
    }
   ],
   "source": [
    "ride_length = df.groupby(['day_of_week','member_casual'])['ride_length'].mean()\n",
    "ride_length"
   ]
  },
  {
   "cell_type": "markdown",
   "id": "7c8a78fe-c94c-44e0-8aed-394efc356a4b",
   "metadata": {},
   "source": [
    "# Data Visualization"
   ]
  },
  {
   "cell_type": "code",
   "execution_count": 21,
   "id": "52a654af-2863-4d40-b9e3-244bf6349b3e",
   "metadata": {},
   "outputs": [
    {
     "data": {
      "text/plain": [
       "Text(0, 0.5, 'Rides Average\")')"
      ]
     },
     "execution_count": 21,
     "metadata": {},
     "output_type": "execute_result"
    },
    {
     "data": {
      "image/png": "[encoded data removed]",
      "text/plain": [
       "<Figure size 640x480 with 1 Axes>"
      ]
     },
     "metadata": {},
     "output_type": "display_data"
    }
   ],
   "source": [
    "sns.set_theme(style=\"whitegrid\")\n",
    "\n",
    "sns.barplot(x='day_of_week', y='ride_length', hue='member_casual', data=df,\n",
    "            palette=['purple', 'steelblue'])\n",
    "\n",
    "#add overall title\n",
    "plt.title('Rides average by type of rider', fontsize=16)\n",
    "\n",
    "#add axis titles\n",
    "plt.xlabel('Day of Week')\n",
    "plt.ylabel('Rides Average\")')"
   ]
  },
  {
   "cell_type": "code",
   "execution_count": 86,
   "id": "3e2ee0bc-4c5a-4c6d-a746-0ff054767005",
   "metadata": {},
   "outputs": [
    {
     "data": {
      "image/png": "[encoded data removed]",
      "text/plain": [
       "<Figure size 640x480 with 1 Axes>"
      ]
     },
     "metadata": {},
     "output_type": "display_data"
    }
   ],
   "source": [
    "plt.fill_between(monthly.index, monthly.month, alpha=0.65)\n",
    "plt.title('Total rides around the year')\n",
    "plt.ylabel('Number of rides')\n",
    "plt.xlabel('Months')\n",
    "plt.show()"
   ]
  },
  {
   "cell_type": "code",
   "execution_count": 24,
   "id": "905bb4d1-5f30-4a07-80b8-aaea22d8a267",
   "metadata": {},
   "outputs": [
    {
     "data": {
      "image/png": "[encoded data removed]",
      "text/plain": [
       "<Figure size 640x480 with 1 Axes>"
      ]
     },
     "metadata": {},
     "output_type": "display_data"
    }
   ],
   "source": [
    "plt.barh(average.member_casual, average.ride_length, color='blue',alpha=1)\n",
    "plt.title('THE AVERAGE PER TYPE OF RIDER')\n",
    "plt.xlabel('Type of Rider')\n",
    "plt.ylabel('Ride Average')\n",
    "plt.show()"
   ]
  },
  {
   "cell_type": "code",
   "execution_count": 23,
   "id": "9b137bc0-93d6-42b1-987b-0f1e1a157ac9",
   "metadata": {},
   "outputs": [
    {
     "data": {
      "image/png": "[encoded data removed]",
      "text/plain": [
       "<Figure size 640x480 with 1 Axes>"
      ]
     },
     "metadata": {},
     "output_type": "display_data"
    }
   ],
   "source": [
    "total_riders.plot(kind='bar',alpha=0.6, rot=0, color='red')\n",
    "plt.title('Total Riders: Casual vs Member')\n",
    "plt.xlabel('Type of rider')\n",
    "plt.show()"
   ]
  },
  {
   "cell_type": "code",
   "execution_count": 24,
   "id": "1308f111-efad-4d54-98a3-79dcb4009209",
   "metadata": {},
   "outputs": [
    {
     "data": {
      "image/png": "[encoded data removed]",
      "text/plain": [
       "<Figure size 500x500 with 1 Axes>"
      ]
     },
     "metadata": {},
     "output_type": "display_data"
    }
   ],
   "source": [
    "sns.catplot(x=\"index\", y=\"month\", kind=\"bar\", data=monthly_rides)\n",
    "plt.xlabel(\"Month\",fontsize=20)\n",
    "plt.ylabel(\"Total Rides\",fontsize=20)\n",
    "plt.show()"
   ]
  }
 ],
 "metadata": {
  "kernelspec": {
   "display_name": "Python (Local)",
   "language": "python",
   "name": "local-base"
  },
  "language_info": {
   "codemirror_mode": {
    "name": "ipython",
    "version": 3
   },
   "file_extension": ".py",
   "mimetype": "text/x-python",
   "name": "python",
   "nbconvert_exporter": "python",
   "pygments_lexer": "ipython3",
   "version": "3.7.12"
  }
 },
 "nbformat": 4,
 "nbformat_minor": 5
}
